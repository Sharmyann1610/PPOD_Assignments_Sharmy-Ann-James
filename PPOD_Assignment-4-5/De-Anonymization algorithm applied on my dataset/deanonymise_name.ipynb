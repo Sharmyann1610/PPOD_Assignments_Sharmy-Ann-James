{
  "cells": [
    {
      "cell_type": "code",
      "execution_count": 3,
      "metadata": {
        "colab": {
          "base_uri": "https://localhost:8080/"
        },
        "id": "w2Eb5Yj96cYU",
        "outputId": "c4144c8e-ac0c-4a42-9c23-8eab7397a378"
      },
      "outputs": [
        {
          "name": "stdout",
          "output_type": "stream",
          "text": [
            "Collecting faker\n",
            "  Downloading Faker-23.3.0-py3-none-any.whl (1.8 MB)\n",
            "\u001b[2K     \u001b[90m━━━━━━━━━━━━━━━━━━━━━━━━━━━━━━━━━━━━━━━━\u001b[0m \u001b[32m1.8/1.8 MB\u001b[0m \u001b[31m9.3 MB/s\u001b[0m eta \u001b[36m0:00:00\u001b[0m\n",
            "\u001b[?25hRequirement already satisfied: python-dateutil>=2.4 in /usr/local/lib/python3.10/dist-packages (from faker) (2.8.2)\n",
            "Requirement already satisfied: six>=1.5 in /usr/local/lib/python3.10/dist-packages (from python-dateutil>=2.4->faker) (1.16.0)\n",
            "Installing collected packages: faker\n",
            "Successfully installed faker-23.3.0\n"
          ]
        }
      ],
      "source": [
        "!pip install faker"
      ]
    },
    {
      "cell_type": "code",
      "execution_count": 4,
      "metadata": {
        "id": "VTq_gOWi6Ow5"
      },
      "outputs": [],
      "source": [
        "import pandas as pd\n",
        "from faker import Faker\n",
        "from sklearn.feature_extraction.text import CountVectorizer\n",
        "from sklearn.metrics.pairwise import cosine_similarity"
      ]
    },
    {
      "cell_type": "code",
      "execution_count": 6,
      "metadata": {
        "id": "osqe0kt06Ylo"
      },
      "outputs": [],
      "source": [
        "# Load the original dataset\n",
        "original_df = pd.read_csv('titanic.csv')\n",
        "\n",
        "# Load the pseudonymous dataset\n",
        "anonymous_df = pd.read_csv('titanic_anonymized.csv')"
      ]
    },
    {
      "cell_type": "code",
      "execution_count": 7,
      "metadata": {
        "id": "dk24Xds87FN6"
      },
      "outputs": [],
      "source": [
        "# Assuming 'name' is the column to pseudonymize\n",
        "original_names = original_df['name'].tolist()\n",
        "pseudonymous_names = anonymous_df['name'].tolist()"
      ]
    },
    {
      "cell_type": "code",
      "execution_count": 8,
      "metadata": {
        "id": "Q0d2Idm47IiJ"
      },
      "outputs": [],
      "source": [
        "# Initialize Faker\n",
        "faker = Faker()"
      ]
    },
    {
      "cell_type": "code",
      "execution_count": 9,
      "metadata": {
        "id": "by-xg06v7LdA"
      },
      "outputs": [],
      "source": [
        "# Train a simple model using CountVectorizer and cosine similarity\n",
        "vectorizer = CountVectorizer()\n",
        "original_matrix = vectorizer.fit_transform(original_names)\n",
        "pseudonymous_matrix = vectorizer.transform(pseudonymous_names)"
      ]
    },
    {
      "cell_type": "code",
      "execution_count": 10,
      "metadata": {
        "id": "-_1SmJ3F7O_R"
      },
      "outputs": [],
      "source": [
        "# Calculate cosine similarity between original and pseudonymous names\n",
        "cosine_sim = cosine_similarity(pseudonymous_matrix, original_matrix)"
      ]
    },
    {
      "cell_type": "code",
      "execution_count": 11,
      "metadata": {
        "id": "2fINwema7R9R"
      },
      "outputs": [],
      "source": [
        "most_similar_original_names = []\n",
        "for i in range(len(pseudonymous_names)):\n",
        "    index_most_similar = cosine_sim[i].argmax()\n",
        "    most_similar_original_names.append(original_names[index_most_similar])"
      ]
    },
    {
      "cell_type": "code",
      "execution_count": 12,
      "metadata": {
        "id": "kf6mHLVD7VDa"
      },
      "outputs": [],
      "source": [
        "# Create a mapping between pseudonymous and original names\n",
        "mapping = dict(zip(pseudonymous_names, most_similar_original_names))"
      ]
    },
    {
      "cell_type": "code",
      "execution_count": 14,
      "metadata": {
        "id": "tEPJnOs-7YCC"
      },
      "outputs": [],
      "source": [
        "# Apply the mapping to the pseudonymous dataset\n",
        "anonymous_df['name'] = anonymous_df['name'].map(mapping)"
      ]
    },
    {
      "cell_type": "code",
      "execution_count": 16,
      "metadata": {
        "id": "EholxLai8A4g"
      },
      "outputs": [],
      "source": [
        "# Save the result as a new CSV file\n",
        "anonymous_df.to_csv('titanic_name_deanonymized.csv', index=False)"
      ]
    }
  ],
  "metadata": {
    "colab": {
      "provenance": []
    },
    "kernelspec": {
      "display_name": "Python 3",
      "name": "python3"
    },
    "language_info": {
      "name": "python"
    }
  },
  "nbformat": 4,
  "nbformat_minor": 0
}
